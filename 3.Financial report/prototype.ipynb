{
  "nbformat": 4,
  "nbformat_minor": 0,
  "metadata": {
    "colab": {
      "provenance": []
    },
    "kernelspec": {
      "name": "python3",
      "display_name": "Python 3"
    },
    "language_info": {
      "name": "python"
    }
  },
  "cells": [
    {
      "cell_type": "code",
      "execution_count": 1,
      "metadata": {
        "id": "9J0YekyayQTF",
        "colab": {
          "base_uri": "https://localhost:8080/"
        },
        "outputId": "b443b126-b898-4632-8fc5-cbbe989c5f08"
      },
      "outputs": [
        {
          "output_type": "stream",
          "name": "stdout",
          "text": [
            "Requirement already satisfied: flask in /usr/local/lib/python3.10/dist-packages (2.2.5)\n",
            "Requirement already satisfied: Werkzeug>=2.2.2 in /usr/local/lib/python3.10/dist-packages (from flask) (3.0.3)\n",
            "Requirement already satisfied: Jinja2>=3.0 in /usr/local/lib/python3.10/dist-packages (from flask) (3.1.4)\n",
            "Requirement already satisfied: itsdangerous>=2.0 in /usr/local/lib/python3.10/dist-packages (from flask) (2.2.0)\n",
            "Requirement already satisfied: click>=8.0 in /usr/local/lib/python3.10/dist-packages (from flask) (8.1.7)\n",
            "Requirement already satisfied: MarkupSafe>=2.0 in /usr/local/lib/python3.10/dist-packages (from Jinja2>=3.0->flask) (2.1.5)\n"
          ]
        }
      ],
      "source": [
        "pip install flask"
      ]
    },
    {
      "cell_type": "code",
      "source": [
        "from flask import Flask, request, jsonify\n",
        "\n",
        "app = Flask(__name__)\n",
        "\n",
        "# Sample drug database (for demonstration)\n",
        "drug_database = {\n",
        "    'Aspirin': ['GenericA', 'GenericB', 'GenericC'],\n",
        "    'Tylenol': ['GenericD', 'GenericE'],\n",
        "    # Add more drugs and their generic alternatives here\n",
        "}\n",
        "\n",
        "# Sample pricing and other metadata (for demonstration)\n",
        "drug_info = {\n",
        "    'GenericA': {'price': 10, 'manufacturer': 'Pharma1'},\n",
        "    'GenericB': {'price': 12, 'manufacturer': 'Pharma2'},\n",
        "    'GenericC': {'price': 8, 'manufacturer': 'Pharma3'},\n",
        "    'GenericD': {'price': 15, 'manufacturer': 'Pharma1'},\n",
        "    'GenericE': {'price': 20, 'manufacturer': 'Pharma4'},\n",
        "    # Add more details as needed\n",
        "}\n"
      ],
      "metadata": {
        "id": "ICZEJtJu6OF9"
      },
      "execution_count": 2,
      "outputs": []
    },
    {
      "cell_type": "code",
      "source": [
        "@app.route('/search', methods=['GET'])\n",
        "def search_drug():\n",
        "    branded_drug = request.args.get('drug_name')\n",
        "    if branded_drug in drug_database:\n",
        "        alternatives = drug_database[branded_drug]\n",
        "        return jsonify({'alternatives': alternatives})\n",
        "    else:\n",
        "        return jsonify({'message': 'Drug not found'}), 404\n"
      ],
      "metadata": {
        "id": "sWNk7HZz6et7"
      },
      "execution_count": 3,
      "outputs": []
    },
    {
      "cell_type": "code",
      "source": [
        "def ai_model_select(alternatives):\n",
        "    # Simulated AI model that ranks alternatives\n",
        "    scored_alternatives = sorted(alternatives, key=lambda x: drug_info[x]['price'])\n",
        "    return scored_alternatives\n",
        "\n",
        "@app.route('/get_alternatives', methods=['GET'])\n",
        "def get_alternatives():\n",
        "    branded_drug = request.args.get('drug_name')\n",
        "    if branded_drug in drug_database:\n",
        "        alternatives = drug_database[branded_drug]\n",
        "        selected_alternatives = ai_model_select(alternatives)\n",
        "        return jsonify({'selected_alternatives': selected_alternatives})\n",
        "    else:\n",
        "        return jsonify({'message': 'Drug not found'}), 404\n"
      ],
      "metadata": {
        "id": "a9H7Uo2H6jXP"
      },
      "execution_count": 4,
      "outputs": []
    },
    {
      "cell_type": "code",
      "source": [
        "@app.route('/filter', methods=['GET'])\n",
        "def filter_alternatives():\n",
        "    branded_drug = request.args.get('drug_name')\n",
        "    filter_by = request.args.get('filter_by')  # e.g., 'price' or 'manufacturer'\n",
        "\n",
        "    if branded_drug in drug_database:\n",
        "        alternatives = drug_database[branded_drug]\n",
        "        if filter_by == 'price':\n",
        "            filtered = sorted(alternatives, key=lambda x: drug_info[x]['price'])\n",
        "        elif filter_by == 'manufacturer':\n",
        "            manufacturer = request.args.get('manufacturer')\n",
        "            filtered = [alt for alt in alternatives if drug_info[alt]['manufacturer'] == manufacturer]\n",
        "        else:\n",
        "            filtered = alternatives\n",
        "        return jsonify({'filtered_alternatives': filtered})\n",
        "    else:\n",
        "        return jsonify({'message': 'Drug not found'}), 404\n"
      ],
      "metadata": {
        "id": "Kra4tWR16mgU"
      },
      "execution_count": 5,
      "outputs": []
    },
    {
      "cell_type": "code",
      "source": [
        "if __name__ == '__main__':\n",
        "    app.run(debug=True)"
      ],
      "metadata": {
        "id": "JOYcrB5X6tRe"
      },
      "execution_count": null,
      "outputs": []
    }
  ]
}